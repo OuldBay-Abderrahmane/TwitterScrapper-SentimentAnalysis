{
 "cells": [
  {
   "cell_type": "code",
   "execution_count": 20,
   "metadata": {},
   "outputs": [],
   "source": [
    "# Import packages\n",
    "import pandas as pd\n",
    "from sklearn.model_selection import train_test_split\n",
    "\n",
    "# Initialisation of the dataset\n",
    "allDF = pd.read_csv(\"tweets-train-test.csv\", sep=',', encoding='latin-1')\n",
    "allDF = allDF.sample(frac= 0.05, random_state=1).reset_index(drop=True)\n",
    "allDF.columns = ['Sentiment', 'Id', 'Data', 'Query', 'TweetNames', 'Tweets']\n"
   ]
  },
  {
   "cell_type": "code",
   "execution_count": 21,
   "metadata": {},
   "outputs": [
    {
     "data": {
      "text/plain": [
       "'X = allDF.Tweets\\nprint(X.tolist())\\nX = X.apply(lambda x : cleaned_data(x))\\nprint(X.to_list())'"
      ]
     },
     "execution_count": 21,
     "metadata": {},
     "output_type": "execute_result"
    }
   ],
   "source": [
    "import preprocessing as pp\n",
    "\n",
    "\n",
    "def cleaned_data(text):\n",
    "    function_list = [pp.remove_mentions, pp.remove_hash, pp.remove_newlines_tabs, pp.remove_links, pp.remove_whitespace, pp.accented_characters_removal, pp.lower_case, pp.reducing_incorrect_character_repeatation, pp.expand_contractions, pp.removing_special_characters, pp.remove_non_alphanumeric, pp.remove_num, pp.removing_stopwords, pp.spelling_correction, pp.remove_quot, pp.remove_whitespace] \n",
    "    for f in function_list:\n",
    "        text = f(text)\n",
    "    return text\n"
   ]
  },
  {
   "cell_type": "code",
   "execution_count": 22,
   "metadata": {},
   "outputs": [
    {
     "data": {
      "text/plain": [
       "0.7209558823529412"
      ]
     },
     "execution_count": 22,
     "metadata": {},
     "output_type": "execute_result"
    }
   ],
   "source": [
    "from sklearn.feature_extraction.text import CountVectorizer, TfidfTransformer \n",
    "from sklearn.model_selection import train_test_split \n",
    "from sklearn.naive_bayes import MultinomialNB\n",
    "from sklearn.pipeline import Pipeline \n",
    "import spacy\n",
    "from sklearn.model_selection import GridSearchCV\n",
    "\n",
    "\n",
    "nlp = spacy.load(\"en_core_web_sm\")\n",
    "\n",
    "# cleaner = Cleaner()\n",
    "vectorizer = CountVectorizer()\n",
    "classifier = MultinomialNB()\n",
    "tfvectorizer = TfidfTransformer()\n",
    "\n",
    "parameters = {'vect__ngram_range': [(1, 1), (1, 2)],\n",
    "              'tfidf__use_idf': (True, False),\n",
    "               'clf__alpha': (1e-2, 1e-3)}\n",
    "\n",
    "X = allDF.Tweets\n",
    "ylabels = allDF.Sentiment.to_list()\n",
    "X = X.apply(lambda x : cleaned_data(x)).to_list()\n",
    "\n",
    "X_train, X_test, y_train, y_test = train_test_split(X, ylabels, test_size=0.15, random_state=42)\n",
    "\n",
    "text_clf = Pipeline([('vect', vectorizer),('tfidf', tfvectorizer), ('clf', classifier)])\n",
    "text_clf = text_clf.fit(X_train, y_train)\n",
    "\n",
    "gs_clf = GridSearchCV(text_clf, parameters, n_jobs=-1)\n",
    "gs_clf = gs_clf.fit(X_train, y_train)\n",
    "\n",
    "#gs_clf.best_params_\n",
    "gs_clf.best_score_\n"
   ]
  },
  {
   "cell_type": "code",
   "execution_count": 23,
   "metadata": {},
   "outputs": [
    {
     "data": {
      "text/plain": [
       "0.72025"
      ]
     },
     "execution_count": 23,
     "metadata": {},
     "output_type": "execute_result"
    }
   ],
   "source": [
    "\n",
    "import numpy as np\n",
    "predicted = gs_clf.predict(X_test)\n",
    "np.mean(predicted == y_test)"
   ]
  },
  {
   "cell_type": "code",
   "execution_count": 24,
   "metadata": {},
   "outputs": [
    {
     "data": {
      "text/plain": [
       "['model.joblib']"
      ]
     },
     "execution_count": 24,
     "metadata": {},
     "output_type": "execute_result"
    }
   ],
   "source": [
    "from joblib import dump, load\n",
    "dump(gs_clf, 'model.joblib') "
   ]
  },
  {
   "cell_type": "code",
   "execution_count": 12,
   "metadata": {},
   "outputs": [
    {
     "name": "stdout",
     "output_type": "stream",
     "text": [
      "[0]\n"
     ]
    }
   ],
   "source": [
    "from joblib import load\n",
    "clf = load('model.joblib') \n",
    "x = \"He's so boring\" \n",
    "predicted = clf.predict([x])\n",
    "print(predicted)"
   ]
  }
 ],
 "metadata": {
  "kernelspec": {
   "display_name": "Python 3.9.10 64-bit ('3.9.10')",
   "language": "python",
   "name": "python3"
  },
  "language_info": {
   "codemirror_mode": {
    "name": "ipython",
    "version": 3
   },
   "file_extension": ".py",
   "mimetype": "text/x-python",
   "name": "python",
   "nbconvert_exporter": "python",
   "pygments_lexer": "ipython3",
   "version": "3.9.10"
  },
  "orig_nbformat": 4,
  "vscode": {
   "interpreter": {
    "hash": "7503e5748dbb206f8ea8b826b301d71fa203adbaa4ff2bd391d3b1c5a6b2f62c"
   }
  }
 },
 "nbformat": 4,
 "nbformat_minor": 2
}
